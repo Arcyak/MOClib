{
 "cells": [
  {
   "cell_type": "markdown",
   "source": [
    "# HEALPix Python Project\n",
    "\n",
    "Author: Yannick Hénin\n",
    "University of Strasbourg"
   ],
   "metadata": {
    "collapsed": false
   },
   "id": "1aced5876cd7b557"
  },
  {
   "cell_type": "markdown",
   "source": [
    "First we import our python module"
   ],
   "metadata": {
    "collapsed": false
   },
   "id": "ccd11122259ab99e"
  },
  {
   "cell_type": "code",
   "outputs": [],
   "source": [
    "import test"
   ],
   "metadata": {
    "collapsed": false,
    "is_executing": true
   },
   "id": "eb202cf0b3a1c6cc"
  },
  {
   "cell_type": "code",
   "outputs": [],
   "source": [
    "We define useful constant in this cell such as:\n",
    "- name of the catalogue to query"
   ],
   "metadata": {
    "collapsed": false
   },
   "id": "e8a1ae7d5096bb6a"
  }
 ],
 "metadata": {
  "kernelspec": {
   "display_name": "Python 3 (ipykernel)",
   "language": "python",
   "name": "python3"
  },
  "language_info": {
   "codemirror_mode": {
    "name": "ipython",
    "version": 3
   },
   "file_extension": ".py",
   "mimetype": "text/x-python",
   "name": "python",
   "nbconvert_exporter": "python",
   "pygments_lexer": "ipython3",
   "version": "3.11.4"
  }
 },
 "nbformat": 4,
 "nbformat_minor": 5
}
